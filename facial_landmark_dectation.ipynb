{
  "cells": [
    {
      "cell_type": "code",
      "execution_count": 7,
      "metadata": {
        "colab": {
          "base_uri": "https://localhost:8080/"
        },
        "id": "KSIlHY2GmwzB",
        "outputId": "d676e92b-0a63-4933-edeb-4da4e9a89a66"
      },
      "outputs": [
        {
          "output_type": "stream",
          "name": "stdout",
          "text": [
            "Collecting face_recognition\n",
            "  Downloading face_recognition-1.3.0-py2.py3-none-any.whl.metadata (21 kB)\n",
            "Collecting face-recognition-models>=0.3.0 (from face_recognition)\n",
            "  Downloading face_recognition_models-0.3.0.tar.gz (100.1 MB)\n",
            "\u001b[2K     \u001b[90m━━━━━━━━━━━━━━━━━━━━━━━━━━━━━━━━━━━━━━━━\u001b[0m \u001b[32m100.1/100.1 MB\u001b[0m \u001b[31m7.9 MB/s\u001b[0m eta \u001b[36m0:00:00\u001b[0m\n",
            "\u001b[?25h  Preparing metadata (setup.py) ... \u001b[?25l\u001b[?25hdone\n",
            "Requirement already satisfied: Click>=6.0 in /usr/local/lib/python3.10/dist-packages (from face_recognition) (8.1.7)\n",
            "Requirement already satisfied: dlib>=19.7 in /usr/local/lib/python3.10/dist-packages (from face_recognition) (19.24.2)\n",
            "Requirement already satisfied: numpy in /usr/local/lib/python3.10/dist-packages (from face_recognition) (1.26.4)\n",
            "Requirement already satisfied: Pillow in /usr/local/lib/python3.10/dist-packages (from face_recognition) (10.4.0)\n",
            "Downloading face_recognition-1.3.0-py2.py3-none-any.whl (15 kB)\n",
            "Building wheels for collected packages: face-recognition-models\n",
            "  Building wheel for face-recognition-models (setup.py) ... \u001b[?25l\u001b[?25hdone\n",
            "  Created wheel for face-recognition-models: filename=face_recognition_models-0.3.0-py2.py3-none-any.whl size=100566164 sha256=cb362f1b2876cc03f46a49d5abe91fc7107b1c21827aeec6e44bd29e9436d946\n",
            "  Stored in directory: /root/.cache/pip/wheels/7a/eb/cf/e9eced74122b679557f597bb7c8e4c739cfcac526db1fd523d\n",
            "Successfully built face-recognition-models\n",
            "Installing collected packages: face-recognition-models, face_recognition\n",
            "Successfully installed face-recognition-models-0.3.0 face_recognition-1.3.0\n"
          ]
        }
      ],
      "source": [
        "!pip install face_recognition"
      ]
    },
    {
      "cell_type": "code",
      "source": [
        "!mkdir known\n",
        "!wget https://www.biography.com/.image/t_share/MTY2MzU3Nzk2OTM2MjMwNTkx/elon_musk_royal_society.jpg -0 known/elon.jpg\n",
        "!wget https://pbs.twimg.com/profile_images/988775660163252226/XpgonNOX_400x400.jpg -0 known/bill.jpg\n",
        "!wget https://www.biography.com/.image/t_share/MTE4MDA2NDEwNzg5ODI4MTEw/barack-obama-12782369-1-402.jpg-0 known/obama.jpg"
      ],
      "metadata": {
        "colab": {
          "base_uri": "https://localhost:8080/"
        },
        "id": "SZgeS6uWt2c4",
        "outputId": "94bbf0b2-0ccb-4837-d0ce-056444775e64"
      },
      "execution_count": 15,
      "outputs": [
        {
          "output_type": "stream",
          "name": "stdout",
          "text": [
            "mkdir: cannot create directory ‘known’: File exists\n",
            "wget: invalid option -- '0'\n",
            "Usage: wget [OPTION]... [URL]...\n",
            "\n",
            "Try `wget --help' for more options.\n",
            "wget: invalid option -- '0'\n",
            "Usage: wget [OPTION]... [URL]...\n",
            "\n",
            "Try `wget --help' for more options.\n",
            "--2024-09-29 13:05:25--  https://www.biography.com/.image/t_share/MTE4MDA2NDEwNzg5ODI4MTEw/barack-obama-12782369-1-402.jpg-0\n",
            "Resolving www.biography.com (www.biography.com)... 151.101.0.155, 151.101.64.155, 151.101.128.155, ...\n",
            "Connecting to www.biography.com (www.biography.com)|151.101.0.155|:443... connected.\n",
            "HTTP request sent, awaiting response... 404 Not Found\n",
            "2024-09-29 13:05:25 ERROR 404: Not Found.\n",
            "\n",
            "--2024-09-29 13:05:25--  http://known/obama.jpg\n",
            "Resolving known (known)... failed: Name or service not known.\n",
            "wget: unable to resolve host address ‘known’\n"
          ]
        }
      ]
    },
    {
      "cell_type": "code",
      "source": [
        "!mkdir unknown\n",
        "!wget https://i.insider.com/5ddfa893fd9db26b8a4a2df7 -0 unknown/1.jpg\n",
        "!wget https://cdn-images-1.medium.com/max/1200/1*aEoYLgy4z1lT1kW7dqWzBg.jpeg 0 unknown/2.jpg\n",
        "!wget https://media2.s-nbcnews.com/j/newscms/201746/2224911/171113-bill-gates-se-247p 043bd413c63b2a97abf11bfad747538d.fit-760w.jpg -0 unknown/3.jpg\n",
        "!wget https://specials-images.forbesimg.com/imageserve/1184274010/960x0.jpg -0 unknown/4.jpg"
      ],
      "metadata": {
        "colab": {
          "base_uri": "https://localhost:8080/"
        },
        "id": "7rriEGK8vEDY",
        "outputId": "300ceee0-f262-4451-b6ad-c4f52783103d"
      },
      "execution_count": 16,
      "outputs": [
        {
          "output_type": "stream",
          "name": "stdout",
          "text": [
            "mkdir: cannot create directory ‘unknown’: File exists\n",
            "wget: invalid option -- '0'\n",
            "Usage: wget [OPTION]... [URL]...\n",
            "\n",
            "Try `wget --help' for more options.\n",
            "Warning: wildcards not supported in HTTP.\n",
            "--2024-09-29 13:05:29--  https://cdn-images-1.medium.com/max/1200/1*aEoYLgy4z1lT1kW7dqWzBg.jpeg\n",
            "Resolving cdn-images-1.medium.com (cdn-images-1.medium.com)... 162.159.152.4, 162.159.153.4, 2606:4700:7::a29f:9904, ...\n",
            "Connecting to cdn-images-1.medium.com (cdn-images-1.medium.com)|162.159.152.4|:443... connected.\n",
            "HTTP request sent, awaiting response... 301 Moved Permanently\n",
            "Location: /v2/resize:fit:1200/1*aEoYLgy4z1lT1kW7dqWzBg.jpeg [following]\n",
            "Warning: wildcards not supported in HTTP.\n",
            "--2024-09-29 13:05:29--  https://cdn-images-1.medium.com/v2/resize:fit:1200/1*aEoYLgy4z1lT1kW7dqWzBg.jpeg\n",
            "Reusing existing connection to cdn-images-1.medium.com:443.\n",
            "HTTP request sent, awaiting response... 200 OK\n",
            "Length: 79570 (78K) [image/jpeg]\n",
            "Saving to: ‘1*aEoYLgy4z1lT1kW7dqWzBg.jpeg.2’\n",
            "\n",
            "1*aEoYLgy4z1lT1kW7d 100%[===================>]  77.71K  --.-KB/s    in 0.02s   \n",
            "\n",
            "2024-09-29 13:05:29 (3.59 MB/s) - ‘1*aEoYLgy4z1lT1kW7dqWzBg.jpeg.2’ saved [79570/79570]\n",
            "\n",
            "--2024-09-29 13:05:29--  http://0/\n",
            "Resolving 0 (0)... 0.0.0.0\n",
            "Connecting to 0 (0)|0.0.0.0|:80... failed: Connection refused.\n",
            "--2024-09-29 13:05:29--  http://unknown/2.jpg\n",
            "Resolving unknown (unknown)... failed: Name or service not known.\n",
            "wget: unable to resolve host address ‘unknown’\n",
            "FINISHED --2024-09-29 13:05:29--\n",
            "Total wall clock time: 0.2s\n",
            "Downloaded: 1 files, 78K in 0.02s (3.59 MB/s)\n",
            "wget: invalid option -- '0'\n",
            "Usage: wget [OPTION]... [URL]...\n",
            "\n",
            "Try `wget --help' for more options.\n",
            "wget: invalid option -- '0'\n",
            "Usage: wget [OPTION]... [URL]...\n",
            "\n",
            "Try `wget --help' for more options.\n"
          ]
        }
      ]
    },
    {
      "cell_type": "code",
      "source": [
        "import face_recognition\n",
        "import cv2\n",
        "import os\n",
        "from google.colab.patches import cv2_imshow\n",
        "\n",
        "def read_img(path):\n",
        "  img = cv2.imread(path)\n",
        "  (h, w) = img.shape[:2]\n",
        "  width = 500\n",
        "  ratio = width / float(w)\n",
        "  height = int(h * ratio)\n",
        "  return cv2.resize(img, (width, height))\n",
        "\n",
        "known_encodings = []\n",
        "known_names = []\n",
        "known_dir = 'known'\n",
        "\n",
        "for flie in os.listdir(known_dir):\n",
        "  img = read_img(known_dir + '/' + flie)\n",
        "  img_enc = face_recognition.face_encodings(img)[0]\n",
        "  known_encodings.append(img_enc)\n",
        "  known_name.append(flie.split('.')[0])\n",
        "\n",
        "\n",
        "unknown_dir = 'unknown'\n",
        "for flie in os.listdir(unknown_dir):\n",
        "  print('processing', flie)\n",
        "  img = read_img(unknown_dir + '/' + flie)\n",
        "  img_enc = face_recognition.face_encodings(img)[0]\n",
        "\n",
        "  results = face_recognition.compare_faces(known_encoding, img_enc)\n",
        " # print(face_recognition.face_distance(known_encodings, img_enc))\n",
        "\n",
        "\n",
        "  for i in range(len(results)):\n",
        "    if results[i]:\n",
        "       name = known_names[i]\n",
        "       (top, right, bottom, left) = face_recognition.face_locations(img)[0]\n",
        "       cv2.rectangle(img, (left, top), (right, bottom), (0, 0, 255), 2)\n",
        "       cv2_putText(img, name, (left + 2, bottom + 20), cv2.FONT_HERSHEY_PLAIN, 0.8, (255, 255, 255), 1)\n",
        "       cv2_imshow(img)\n",
        "\n",
        " # print(results)"
      ],
      "metadata": {
        "id": "Gbyxc1XPxnKM"
      },
      "execution_count": 14,
      "outputs": []
    }
  ],
  "metadata": {
    "accelerator": "GPU",
    "colab": {
      "gpuType": "T4",
      "provenance": []
    },
    "kernelspec": {
      "display_name": "Python 3",
      "name": "python3"
    },
    "language_info": {
      "name": "python"
    }
  },
  "nbformat": 4,
  "nbformat_minor": 0
}